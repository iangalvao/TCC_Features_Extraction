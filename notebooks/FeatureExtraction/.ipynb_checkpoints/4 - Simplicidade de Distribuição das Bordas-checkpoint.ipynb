{
 "cells": [
  {
   "cell_type": "code",
   "execution_count": 1,
   "metadata": {
    "colab": {
     "base_uri": "https://localhost:8080/",
     "height": 601
    },
    "id": "FGYjN5ZTQzHY",
    "outputId": "96e8fb0d-9ea1-4cc3-e98c-6b704f49eff8"
   },
   "outputs": [],
   "source": [
    "%matplotlib inline\n",
    "from matplotlib.pyplot import imshow\n",
    "from PIL import Image\n",
    "import numpy as np\n",
    "import scipy.ndimage.filters\n",
    "from matplotlib import pyplot as plt\n",
    "\n",
    "\n"
   ]
  },
  {
   "cell_type": "code",
   "execution_count": 8,
   "metadata": {},
   "outputs": [],
   "source": [
    "img = \"154740129.jpg\""
   ]
  },
  {
   "cell_type": "code",
   "execution_count": 22,
   "metadata": {},
   "outputs": [],
   "source": [
    "imArray = open_image(img)"
   ]
  },
  {
   "cell_type": "code",
   "execution_count": 30,
   "metadata": {
    "colab": {
     "base_uri": "https://localhost:8080/",
     "height": 180
    },
    "id": "1oZxlNAuOrN8",
    "outputId": "0b291840-0f47-4171-d25d-dc2b1ef3c4ca"
   },
   "outputs": [],
   "source": [
    "\n",
    "def edge_simplicity(imArray):\n",
    "\n",
    "    laplacian = scipy.ndimage.laplace(imArray)\n",
    "    \n",
    "    totalSum = laplacian.sum()\n",
    "    sumRows = laplacian.sum(axis=1) / totalSum\n",
    "    sumRows = sumRows.sum(axis=1)\n",
    "    sumColumns = laplacian.sum(axis=0) / totalSum\n",
    "    sumColumns = sumColumns.sum(axis=1)\n",
    "    f1 = hist_width(sumColumns, 0.98) / len(sumRows)\n",
    "    f2 = hist_width(sumRows, 0.98) / len(sumColumns)\n",
    "    return 1000*(f1 + f2) / 2\n",
    "\n"
   ]
  },
  {
   "cell_type": "code",
   "execution_count": 16,
   "metadata": {
    "colab": {
     "base_uri": "https://localhost:8080/"
    },
    "id": "DypOYvyvG9jh",
    "outputId": "35e939ac-12be-4ddd-c432-11a8c44b5545"
   },
   "outputs": [],
   "source": [
    "def sum_axis(laplacian):\n",
    "    sumR = []\n",
    "    total = 0\n",
    "    check = 0\n",
    "    i = 0\n",
    "    for row in laplacian:\n",
    "        for pixel in row:\n",
    "            total += pixel\n",
    "        \n",
    "    for row in laplacian:\n",
    "        sumR.append(0)\n",
    "        for pixel in row:\n",
    "            check += pixel/total\n",
    "            sumR[i] += pixel/total\n",
    "        i+=1\n",
    "\n",
    "    print (total)\n",
    "    print (sumR[599:609])\n",
    "    print (check)\n",
    "    return sumR"
   ]
  },
  {
   "cell_type": "code",
   "execution_count": 19,
   "metadata": {},
   "outputs": [],
   "source": [
    "\n",
    "def hist_width(v, p):\n",
    "    threshold = (1 - p) / 2\n",
    "    leftsum = 0\n",
    "    rightsum = 0\n",
    "    l = len(v)\n",
    "    end = l - 1\n",
    "    start = 0\n",
    "    left = 1\n",
    "    right = 1\n",
    "    for i in range(l):\n",
    "        leftsum += v[i]\n",
    "        \n",
    "        rightsum += v[l - 1 - i]\n",
    "        \n",
    "        if (leftsum >= threshold) and left:\n",
    "            start = i\n",
    "            left = 0\n",
    "        if (rightsum >= threshold) and right:\n",
    "            end = l - 1 - i\n",
    "            right = 0\n",
    "        if (not left) and (not right):\n",
    "            break\n",
    "    if start > end:\n",
    "        result = 0\n",
    "    else:\n",
    "        result = (end - start) / l\n",
    "    return result\n"
   ]
  },
  {
   "cell_type": "code",
   "execution_count": 31,
   "metadata": {},
   "outputs": [
    {
     "data": {
      "text/plain": [
       "1.1157989501953125"
      ]
     },
     "execution_count": 31,
     "metadata": {},
     "output_type": "execute_result"
    }
   ],
   "source": [
    "edge = edge_simplicity(imArray)\n",
    "edge"
   ]
  },
  {
   "cell_type": "code",
   "execution_count": null,
   "metadata": {},
   "outputs": [],
   "source": []
  }
 ],
 "metadata": {
  "colab": {
   "collapsed_sections": [],
   "name": "Untitled1.ipynb",
   "provenance": []
  },
  "kernelspec": {
   "display_name": "Python 3 (ipykernel)",
   "language": "python",
   "name": "python3"
  },
  "language_info": {
   "codemirror_mode": {
    "name": "ipython",
    "version": 3
   },
   "file_extension": ".py",
   "mimetype": "text/x-python",
   "name": "python",
   "nbconvert_exporter": "python",
   "pygments_lexer": "ipython3",
   "version": "3.10.5"
  }
 },
 "nbformat": 4,
 "nbformat_minor": 1
}
