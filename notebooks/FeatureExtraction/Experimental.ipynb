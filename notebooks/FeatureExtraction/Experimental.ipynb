{
 "cells": [
  {
   "cell_type": "code",
   "execution_count": 3,
   "id": "269a958d",
   "metadata": {},
   "outputs": [],
   "source": [
    "import pandas as pd\n",
    "import os\n",
    "\n"
   ]
  },
  {
   "cell_type": "code",
   "execution_count": 89,
   "id": "2882a60f",
   "metadata": {},
   "outputs": [],
   "source": [
    "def read_data(url):\n",
    "    return pd.read_csv(os.path.abspath(url),index_col=0)\n",
    "data = read_data(\"../../extracao/datanov2.csv\")"
   ]
  },
  {
   "cell_type": "code",
   "execution_count": 90,
   "id": "28c59814",
   "metadata": {},
   "outputs": [],
   "source": [
    "data.index = data.index.rename(\"nome\")"
   ]
  },
  {
   "cell_type": "code",
   "execution_count": 91,
   "id": "a8d3f63a",
   "metadata": {},
   "outputs": [
    {
     "data": {
      "text/html": [
       "<div>\n",
       "<style scoped>\n",
       "    .dataframe tbody tr th:only-of-type {\n",
       "        vertical-align: middle;\n",
       "    }\n",
       "\n",
       "    .dataframe tbody tr th {\n",
       "        vertical-align: top;\n",
       "    }\n",
       "\n",
       "    .dataframe thead th {\n",
       "        text-align: right;\n",
       "    }\n",
       "</style>\n",
       "<table border=\"1\" class=\"dataframe\">\n",
       "  <thead>\n",
       "    <tr style=\"text-align: right;\">\n",
       "      <th></th>\n",
       "      <th>edge_simpl</th>\n",
       "      <th>hue_simpl</th>\n",
       "      <th>average_lum</th>\n",
       "      <th>contrast_ratio</th>\n",
       "      <th>hist_width</th>\n",
       "      <th>blur</th>\n",
       "      <th>score</th>\n",
       "    </tr>\n",
       "    <tr>\n",
       "      <th>nome</th>\n",
       "      <th></th>\n",
       "      <th></th>\n",
       "      <th></th>\n",
       "      <th></th>\n",
       "      <th></th>\n",
       "      <th></th>\n",
       "      <th></th>\n",
       "    </tr>\n",
       "  </thead>\n",
       "  <tbody>\n",
       "    <tr>\n",
       "      <th>10004473376.jpg</th>\n",
       "      <td>0.001081</td>\n",
       "      <td>7</td>\n",
       "      <td>41.526758</td>\n",
       "      <td>0.000000</td>\n",
       "      <td>0.003876</td>\n",
       "      <td>0.498065</td>\n",
       "      <td>77.383621</td>\n",
       "    </tr>\n",
       "    <tr>\n",
       "      <th>10007357496.jpg</th>\n",
       "      <td>0.001082</td>\n",
       "      <td>17</td>\n",
       "      <td>66.373103</td>\n",
       "      <td>0.008127</td>\n",
       "      <td>0.003110</td>\n",
       "      <td>0.495744</td>\n",
       "      <td>68.728571</td>\n",
       "    </tr>\n",
       "    <tr>\n",
       "      <th>10007903636.jpg</th>\n",
       "      <td>0.001081</td>\n",
       "      <td>16</td>\n",
       "      <td>54.814935</td>\n",
       "      <td>0.000000</td>\n",
       "      <td>0.003324</td>\n",
       "      <td>0.494343</td>\n",
       "      <td>78.628571</td>\n",
       "    </tr>\n",
       "    <tr>\n",
       "      <th>10009096245.jpg</th>\n",
       "      <td>0.001079</td>\n",
       "      <td>17</td>\n",
       "      <td>14.681202</td>\n",
       "      <td>0.000000</td>\n",
       "      <td>0.002972</td>\n",
       "      <td>0.497337</td>\n",
       "      <td>77.243750</td>\n",
       "    </tr>\n",
       "    <tr>\n",
       "      <th>100117038.jpg</th>\n",
       "      <td>0.001083</td>\n",
       "      <td>14</td>\n",
       "      <td>77.800492</td>\n",
       "      <td>0.000000</td>\n",
       "      <td>0.003171</td>\n",
       "      <td>0.494853</td>\n",
       "      <td>75.112500</td>\n",
       "    </tr>\n",
       "    <tr>\n",
       "      <th>...</th>\n",
       "      <td>...</td>\n",
       "      <td>...</td>\n",
       "      <td>...</td>\n",
       "      <td>...</td>\n",
       "      <td>...</td>\n",
       "      <td>...</td>\n",
       "      <td>...</td>\n",
       "    </tr>\n",
       "    <tr>\n",
       "      <th>9984535544.jpg</th>\n",
       "      <td>0.001082</td>\n",
       "      <td>18</td>\n",
       "      <td>39.107523</td>\n",
       "      <td>0.000000</td>\n",
       "      <td>0.002037</td>\n",
       "      <td>0.501049</td>\n",
       "      <td>70.020089</td>\n",
       "    </tr>\n",
       "    <tr>\n",
       "      <th>9991658304.jpg</th>\n",
       "      <td>0.001080</td>\n",
       "      <td>14</td>\n",
       "      <td>44.251944</td>\n",
       "      <td>0.000000</td>\n",
       "      <td>0.003891</td>\n",
       "      <td>0.498962</td>\n",
       "      <td>79.337838</td>\n",
       "    </tr>\n",
       "    <tr>\n",
       "      <th>9991999836.jpg</th>\n",
       "      <td>0.001080</td>\n",
       "      <td>17</td>\n",
       "      <td>57.842979</td>\n",
       "      <td>0.002332</td>\n",
       "      <td>0.003753</td>\n",
       "      <td>0.499522</td>\n",
       "      <td>78.092437</td>\n",
       "    </tr>\n",
       "    <tr>\n",
       "      <th>9995874256.jpg</th>\n",
       "      <td>0.001082</td>\n",
       "      <td>17</td>\n",
       "      <td>62.265024</td>\n",
       "      <td>0.011355</td>\n",
       "      <td>0.003661</td>\n",
       "      <td>0.493174</td>\n",
       "      <td>68.095133</td>\n",
       "    </tr>\n",
       "    <tr>\n",
       "      <th>9996001596.jpg</th>\n",
       "      <td>0.001082</td>\n",
       "      <td>14</td>\n",
       "      <td>66.368036</td>\n",
       "      <td>0.000000</td>\n",
       "      <td>0.003860</td>\n",
       "      <td>0.497952</td>\n",
       "      <td>67.219027</td>\n",
       "    </tr>\n",
       "  </tbody>\n",
       "</table>\n",
       "<p>10073 rows × 7 columns</p>\n",
       "</div>"
      ],
      "text/plain": [
       "                 edge_simpl  hue_simpl  average_lum  contrast_ratio  \\\n",
       "nome                                                                  \n",
       "10004473376.jpg    0.001081          7    41.526758        0.000000   \n",
       "10007357496.jpg    0.001082         17    66.373103        0.008127   \n",
       "10007903636.jpg    0.001081         16    54.814935        0.000000   \n",
       "10009096245.jpg    0.001079         17    14.681202        0.000000   \n",
       "100117038.jpg      0.001083         14    77.800492        0.000000   \n",
       "...                     ...        ...          ...             ...   \n",
       "9984535544.jpg     0.001082         18    39.107523        0.000000   \n",
       "9991658304.jpg     0.001080         14    44.251944        0.000000   \n",
       "9991999836.jpg     0.001080         17    57.842979        0.002332   \n",
       "9995874256.jpg     0.001082         17    62.265024        0.011355   \n",
       "9996001596.jpg     0.001082         14    66.368036        0.000000   \n",
       "\n",
       "                 hist_width      blur      score  \n",
       "nome                                              \n",
       "10004473376.jpg    0.003876  0.498065  77.383621  \n",
       "10007357496.jpg    0.003110  0.495744  68.728571  \n",
       "10007903636.jpg    0.003324  0.494343  78.628571  \n",
       "10009096245.jpg    0.002972  0.497337  77.243750  \n",
       "100117038.jpg      0.003171  0.494853  75.112500  \n",
       "...                     ...       ...        ...  \n",
       "9984535544.jpg     0.002037  0.501049  70.020089  \n",
       "9991658304.jpg     0.003891  0.498962  79.337838  \n",
       "9991999836.jpg     0.003753  0.499522  78.092437  \n",
       "9995874256.jpg     0.003661  0.493174  68.095133  \n",
       "9996001596.jpg     0.003860  0.497952  67.219027  \n",
       "\n",
       "[10073 rows x 7 columns]"
      ]
     },
     "execution_count": 91,
     "metadata": {},
     "output_type": "execute_result"
    }
   ],
   "source": [
    "data"
   ]
  },
  {
   "cell_type": "code",
   "execution_count": 64,
   "id": "52fb3a50",
   "metadata": {},
   "outputs": [],
   "source": [
    "edge = read_data(\"dataExp.csv\")"
   ]
  },
  {
   "cell_type": "code",
   "execution_count": 65,
   "id": "0844c70e",
   "metadata": {},
   "outputs": [
    {
     "data": {
      "text/html": [
       "<div>\n",
       "<style scoped>\n",
       "    .dataframe tbody tr th:only-of-type {\n",
       "        vertical-align: middle;\n",
       "    }\n",
       "\n",
       "    .dataframe tbody tr th {\n",
       "        vertical-align: top;\n",
       "    }\n",
       "\n",
       "    .dataframe thead th {\n",
       "        text-align: right;\n",
       "    }\n",
       "</style>\n",
       "<table border=\"1\" class=\"dataframe\">\n",
       "  <thead>\n",
       "    <tr style=\"text-align: right;\">\n",
       "      <th></th>\n",
       "      <th>edge_simpl2</th>\n",
       "    </tr>\n",
       "    <tr>\n",
       "      <th>nome</th>\n",
       "      <th></th>\n",
       "    </tr>\n",
       "  </thead>\n",
       "  <tbody>\n",
       "    <tr>\n",
       "      <th>10004473376.jpg</th>\n",
       "      <td>0.001116</td>\n",
       "    </tr>\n",
       "    <tr>\n",
       "      <th>10007357496.jpg</th>\n",
       "      <td>0.001116</td>\n",
       "    </tr>\n",
       "    <tr>\n",
       "      <th>10007903636.jpg</th>\n",
       "      <td>0.001116</td>\n",
       "    </tr>\n",
       "    <tr>\n",
       "      <th>10009096245.jpg</th>\n",
       "      <td>0.001113</td>\n",
       "    </tr>\n",
       "    <tr>\n",
       "      <th>100117038.jpg</th>\n",
       "      <td>0.001118</td>\n",
       "    </tr>\n",
       "    <tr>\n",
       "      <th>...</th>\n",
       "      <td>...</td>\n",
       "    </tr>\n",
       "    <tr>\n",
       "      <th>9984535544.jpg</th>\n",
       "      <td>0.001116</td>\n",
       "    </tr>\n",
       "    <tr>\n",
       "      <th>9991658304.jpg</th>\n",
       "      <td>0.001116</td>\n",
       "    </tr>\n",
       "    <tr>\n",
       "      <th>9991999836.jpg</th>\n",
       "      <td>0.001116</td>\n",
       "    </tr>\n",
       "    <tr>\n",
       "      <th>9995874256.jpg</th>\n",
       "      <td>0.001116</td>\n",
       "    </tr>\n",
       "    <tr>\n",
       "      <th>9996001596.jpg</th>\n",
       "      <td>0.001112</td>\n",
       "    </tr>\n",
       "  </tbody>\n",
       "</table>\n",
       "<p>10073 rows × 1 columns</p>\n",
       "</div>"
      ],
      "text/plain": [
       "                 edge_simpl2\n",
       "nome                        \n",
       "10004473376.jpg     0.001116\n",
       "10007357496.jpg     0.001116\n",
       "10007903636.jpg     0.001116\n",
       "10009096245.jpg     0.001113\n",
       "100117038.jpg       0.001118\n",
       "...                      ...\n",
       "9984535544.jpg      0.001116\n",
       "9991658304.jpg      0.001116\n",
       "9991999836.jpg      0.001116\n",
       "9995874256.jpg      0.001116\n",
       "9996001596.jpg      0.001112\n",
       "\n",
       "[10073 rows x 1 columns]"
      ]
     },
     "execution_count": 65,
     "metadata": {},
     "output_type": "execute_result"
    }
   ],
   "source": [
    "edge"
   ]
  },
  {
   "cell_type": "code",
   "execution_count": 7,
   "id": "54f41b34",
   "metadata": {},
   "outputs": [],
   "source": [
    "a = {'col1':[\"A\",\"B\"],\"col2\": [1,2]}\n",
    "b = {'col1':[\"A\",\"B\"],\"col3\": [\"um\",\"dois\"]}\n",
    "\n",
    "A = pd.DataFrame(a)\n",
    "B = pd.DataFrame(b)"
   ]
  },
  {
   "cell_type": "code",
   "execution_count": 9,
   "id": "4cc89533",
   "metadata": {},
   "outputs": [
    {
     "data": {
      "text/html": [
       "<div>\n",
       "<style scoped>\n",
       "    .dataframe tbody tr th:only-of-type {\n",
       "        vertical-align: middle;\n",
       "    }\n",
       "\n",
       "    .dataframe tbody tr th {\n",
       "        vertical-align: top;\n",
       "    }\n",
       "\n",
       "    .dataframe thead th {\n",
       "        text-align: right;\n",
       "    }\n",
       "</style>\n",
       "<table border=\"1\" class=\"dataframe\">\n",
       "  <thead>\n",
       "    <tr style=\"text-align: right;\">\n",
       "      <th></th>\n",
       "      <th>col1</th>\n",
       "      <th>col3</th>\n",
       "    </tr>\n",
       "  </thead>\n",
       "  <tbody>\n",
       "    <tr>\n",
       "      <th>0</th>\n",
       "      <td>A</td>\n",
       "      <td>um</td>\n",
       "    </tr>\n",
       "    <tr>\n",
       "      <th>1</th>\n",
       "      <td>B</td>\n",
       "      <td>dois</td>\n",
       "    </tr>\n",
       "  </tbody>\n",
       "</table>\n",
       "</div>"
      ],
      "text/plain": [
       "  col1  col3\n",
       "0    A    um\n",
       "1    B  dois"
      ]
     },
     "execution_count": 9,
     "metadata": {},
     "output_type": "execute_result"
    }
   ],
   "source": [
    "B"
   ]
  },
  {
   "cell_type": "code",
   "execution_count": 93,
   "id": "5dec5620",
   "metadata": {},
   "outputs": [],
   "source": [
    "merge = pd.merge(data, edge, on='nome')"
   ]
  },
  {
   "cell_type": "code",
   "execution_count": 94,
   "id": "1a8f8249",
   "metadata": {},
   "outputs": [
    {
     "data": {
      "text/plain": [
       "['edge_simpl',\n",
       " 'hue_simpl',\n",
       " 'average_lum',\n",
       " 'contrast_ratio',\n",
       " 'hist_width',\n",
       " 'blur',\n",
       " 'score',\n",
       " 'edge_simpl2']"
      ]
     },
     "execution_count": 94,
     "metadata": {},
     "output_type": "execute_result"
    }
   ],
   "source": [
    "cols = list(merge.columns.values)\n",
    "cols"
   ]
  },
  {
   "cell_type": "code",
   "execution_count": 96,
   "id": "5d5e7a95",
   "metadata": {},
   "outputs": [
    {
     "data": {
      "text/plain": [
       "['edge_simpl',\n",
       " 'hue_simpl',\n",
       " 'average_lum',\n",
       " 'contrast_ratio',\n",
       " 'hist_width',\n",
       " 'blur',\n",
       " 'edge_simpl2',\n",
       " 'score']"
      ]
     },
     "execution_count": 96,
     "metadata": {},
     "output_type": "execute_result"
    }
   ],
   "source": [
    "a = cols[-1]\n",
    "cols[-1] = cols[-2]\n",
    "cols[-2] = a\n",
    "cols"
   ]
  },
  {
   "cell_type": "code",
   "execution_count": 99,
   "id": "36477ad7",
   "metadata": {},
   "outputs": [],
   "source": [
    "df = merge[cols]\n",
    "df.to_csv(\"expfeature.csv\")"
   ]
  }
 ],
 "metadata": {
  "kernelspec": {
   "display_name": "Python 3 (ipykernel)",
   "language": "python",
   "name": "python3"
  },
  "language_info": {
   "codemirror_mode": {
    "name": "ipython",
    "version": 3
   },
   "file_extension": ".py",
   "mimetype": "text/x-python",
   "name": "python",
   "nbconvert_exporter": "python",
   "pygments_lexer": "ipython3",
   "version": "3.10.5"
  }
 },
 "nbformat": 4,
 "nbformat_minor": 5
}
