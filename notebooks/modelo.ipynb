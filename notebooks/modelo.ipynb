{
 "cells": [
  {
   "cell_type": "code",
   "execution_count": 9,
   "id": "cc8f2c23",
   "metadata": {},
   "outputs": [],
   "source": [
    "from sklearn.datasets import load_iris\n",
    "from sklearn.model_selection import train_test_split\n",
    "from sklearn.naive_bayes import GaussianNB\n",
    "from sklearn.linear_model import LogisticRegression\n",
    "import pandas as pd\n",
    "import numpy as np\n",
    "#X, y = load_iris(return_X_y=True)\n",
    "#X_train, X_test, y_train, y_test = train_test_split(X, y, test_size=0.5, random_state=0)\n",
    "#gnb = GaussianNB()\n",
    "#y_pred = gnb.fit(X_train, y_train).predict(X_test)\n",
    "#print(\"Number of mislabeled points out of a total %d points : %d\"\n",
    "#      % (X_test.shape[0], (y_test != y_pred).sum()))"
   ]
  },
  {
   "cell_type": "code",
   "execution_count": 2,
   "id": "74bce223",
   "metadata": {},
   "outputs": [],
   "source": [
    "df = pd.read_csv(\"../extracao/data.csv\")"
   ]
  },
  {
   "cell_type": "code",
   "execution_count": 3,
   "id": "3c6a45cf",
   "metadata": {},
   "outputs": [
    {
     "data": {
      "text/html": [
       "<div>\n",
       "<style scoped>\n",
       "    .dataframe tbody tr th:only-of-type {\n",
       "        vertical-align: middle;\n",
       "    }\n",
       "\n",
       "    .dataframe tbody tr th {\n",
       "        vertical-align: top;\n",
       "    }\n",
       "\n",
       "    .dataframe thead th {\n",
       "        text-align: right;\n",
       "    }\n",
       "</style>\n",
       "<table border=\"1\" class=\"dataframe\">\n",
       "  <thead>\n",
       "    <tr style=\"text-align: right;\">\n",
       "      <th></th>\n",
       "      <th>edge_simpl</th>\n",
       "      <th>hue_simpl</th>\n",
       "      <th>average_lum</th>\n",
       "      <th>contrast_ratio</th>\n",
       "      <th>hist_width</th>\n",
       "      <th>blur</th>\n",
       "      <th>score</th>\n",
       "    </tr>\n",
       "  </thead>\n",
       "  <tbody>\n",
       "    <tr>\n",
       "      <th>80184044.jpg</th>\n",
       "      <td>0.988281</td>\n",
       "      <td>17</td>\n",
       "      <td>32.791357</td>\n",
       "      <td>0.033461</td>\n",
       "      <td>0.828125</td>\n",
       "      <td>0.506367</td>\n",
       "      <td>3.911765</td>\n",
       "    </tr>\n",
       "    <tr>\n",
       "      <th>3632417985.jpg</th>\n",
       "      <td>0.984701</td>\n",
       "      <td>10</td>\n",
       "      <td>60.394967</td>\n",
       "      <td>0.040131</td>\n",
       "      <td>0.937500</td>\n",
       "      <td>0.509684</td>\n",
       "      <td>4.167411</td>\n",
       "    </tr>\n",
       "    <tr>\n",
       "      <th>10344921126.jpg</th>\n",
       "      <td>0.900228</td>\n",
       "      <td>14</td>\n",
       "      <td>82.289109</td>\n",
       "      <td>0.008832</td>\n",
       "      <td>0.820312</td>\n",
       "      <td>0.499054</td>\n",
       "      <td>4.466387</td>\n",
       "    </tr>\n",
       "    <tr>\n",
       "      <th>33000255.jpg</th>\n",
       "      <td>0.987467</td>\n",
       "      <td>16</td>\n",
       "      <td>14.709630</td>\n",
       "      <td>0.001770</td>\n",
       "      <td>0.992188</td>\n",
       "      <td>0.490172</td>\n",
       "      <td>4.705508</td>\n",
       "    </tr>\n",
       "    <tr>\n",
       "      <th>3091624267.jpg</th>\n",
       "      <td>0.987630</td>\n",
       "      <td>17</td>\n",
       "      <td>20.625202</td>\n",
       "      <td>0.000000</td>\n",
       "      <td>0.800781</td>\n",
       "      <td>0.494483</td>\n",
       "      <td>4.948718</td>\n",
       "    </tr>\n",
       "    <tr>\n",
       "      <th>...</th>\n",
       "      <td>...</td>\n",
       "      <td>...</td>\n",
       "      <td>...</td>\n",
       "      <td>...</td>\n",
       "      <td>...</td>\n",
       "      <td>...</td>\n",
       "      <td>...</td>\n",
       "    </tr>\n",
       "    <tr>\n",
       "      <th>10264804094.jpg</th>\n",
       "      <td>0.986979</td>\n",
       "      <td>7</td>\n",
       "      <td>70.930692</td>\n",
       "      <td>0.096978</td>\n",
       "      <td>0.921875</td>\n",
       "      <td>0.499980</td>\n",
       "      <td>76.649554</td>\n",
       "    </tr>\n",
       "    <tr>\n",
       "      <th>6163705024.jpg</th>\n",
       "      <td>0.983724</td>\n",
       "      <td>17</td>\n",
       "      <td>77.730217</td>\n",
       "      <td>0.089902</td>\n",
       "      <td>0.578125</td>\n",
       "      <td>0.496635</td>\n",
       "      <td>76.649554</td>\n",
       "    </tr>\n",
       "    <tr>\n",
       "      <th>7914531096.jpg</th>\n",
       "      <td>0.987630</td>\n",
       "      <td>7</td>\n",
       "      <td>58.468774</td>\n",
       "      <td>0.018675</td>\n",
       "      <td>0.925781</td>\n",
       "      <td>0.502837</td>\n",
       "      <td>76.649554</td>\n",
       "    </tr>\n",
       "    <tr>\n",
       "      <th>4824776407.jpg</th>\n",
       "      <td>0.988932</td>\n",
       "      <td>15</td>\n",
       "      <td>66.287623</td>\n",
       "      <td>0.002342</td>\n",
       "      <td>0.882812</td>\n",
       "      <td>0.498488</td>\n",
       "      <td>76.650943</td>\n",
       "    </tr>\n",
       "    <tr>\n",
       "      <th>11018079835.jpg</th>\n",
       "      <td>0.986328</td>\n",
       "      <td>16</td>\n",
       "      <td>57.949927</td>\n",
       "      <td>0.005248</td>\n",
       "      <td>0.960938</td>\n",
       "      <td>0.501005</td>\n",
       "      <td>76.660256</td>\n",
       "    </tr>\n",
       "  </tbody>\n",
       "</table>\n",
       "<p>9349 rows × 7 columns</p>\n",
       "</div>"
      ],
      "text/plain": [
       "                 edge_simpl  hue_simpl  average_lum  contrast_ratio  \\\n",
       "80184044.jpg       0.988281         17    32.791357        0.033461   \n",
       "3632417985.jpg     0.984701         10    60.394967        0.040131   \n",
       "10344921126.jpg    0.900228         14    82.289109        0.008832   \n",
       "33000255.jpg       0.987467         16    14.709630        0.001770   \n",
       "3091624267.jpg     0.987630         17    20.625202        0.000000   \n",
       "...                     ...        ...          ...             ...   \n",
       "10264804094.jpg    0.986979          7    70.930692        0.096978   \n",
       "6163705024.jpg     0.983724         17    77.730217        0.089902   \n",
       "7914531096.jpg     0.987630          7    58.468774        0.018675   \n",
       "4824776407.jpg     0.988932         15    66.287623        0.002342   \n",
       "11018079835.jpg    0.986328         16    57.949927        0.005248   \n",
       "\n",
       "                 hist_width      blur      score  \n",
       "80184044.jpg       0.828125  0.506367   3.911765  \n",
       "3632417985.jpg     0.937500  0.509684   4.167411  \n",
       "10344921126.jpg    0.820312  0.499054   4.466387  \n",
       "33000255.jpg       0.992188  0.490172   4.705508  \n",
       "3091624267.jpg     0.800781  0.494483   4.948718  \n",
       "...                     ...       ...        ...  \n",
       "10264804094.jpg    0.921875  0.499980  76.649554  \n",
       "6163705024.jpg     0.578125  0.496635  76.649554  \n",
       "7914531096.jpg     0.925781  0.502837  76.649554  \n",
       "4824776407.jpg     0.882812  0.498488  76.650943  \n",
       "11018079835.jpg    0.960938  0.501005  76.660256  \n",
       "\n",
       "[9349 rows x 7 columns]"
      ]
     },
     "execution_count": 3,
     "metadata": {},
     "output_type": "execute_result"
    }
   ],
   "source": [
    "df"
   ]
  },
  {
   "cell_type": "code",
   "execution_count": 4,
   "id": "1f605867",
   "metadata": {},
   "outputs": [],
   "source": [
    "X = df.iloc[:,:-1]\n",
    "y = df.iloc[:,-1:]"
   ]
  },
  {
   "cell_type": "code",
   "execution_count": 5,
   "id": "9108f739",
   "metadata": {},
   "outputs": [],
   "source": [
    "X_train, X_test, y_train, y_test = train_test_split(X, y, test_size=0.5, random_state=0)"
   ]
  },
  {
   "cell_type": "code",
   "execution_count": 11,
   "id": "ebbc2b1a",
   "metadata": {},
   "outputs": [],
   "source": [
    "gnb = LogisticRegression()"
   ]
  },
  {
   "cell_type": "code",
   "execution_count": 12,
   "id": "ecdfdd46",
   "metadata": {},
   "outputs": [],
   "source": [
    "y_train = np.array(y_train).flatten()\n",
    "y_test = np.array(y_test).flatten()"
   ]
  },
  {
   "cell_type": "code",
   "execution_count": 13,
   "id": "b8977590",
   "metadata": {},
   "outputs": [
    {
     "ename": "ValueError",
     "evalue": "Unknown label type: 'continuous'",
     "output_type": "error",
     "traceback": [
      "\u001b[0;31m---------------------------------------------------------------------------\u001b[0m",
      "\u001b[0;31mValueError\u001b[0m                                Traceback (most recent call last)",
      "Input \u001b[0;32mIn [13]\u001b[0m, in \u001b[0;36m<cell line: 1>\u001b[0;34m()\u001b[0m\n\u001b[0;32m----> 1\u001b[0m y_pred \u001b[38;5;241m=\u001b[39m \u001b[43mgnb\u001b[49m\u001b[38;5;241;43m.\u001b[39;49m\u001b[43mfit\u001b[49m\u001b[43m(\u001b[49m\u001b[43mX_train\u001b[49m\u001b[43m,\u001b[49m\u001b[43m \u001b[49m\u001b[43my_train\u001b[49m\u001b[43m)\u001b[49m\u001b[38;5;241m.\u001b[39mpredict(X_test)\n",
      "File \u001b[0;32m/opt/conda/lib/python3.10/site-packages/sklearn/linear_model/_logistic.py:1146\u001b[0m, in \u001b[0;36mLogisticRegression.fit\u001b[0;34m(self, X, y, sample_weight)\u001b[0m\n\u001b[1;32m   1136\u001b[0m     _dtype \u001b[38;5;241m=\u001b[39m [np\u001b[38;5;241m.\u001b[39mfloat64, np\u001b[38;5;241m.\u001b[39mfloat32]\n\u001b[1;32m   1138\u001b[0m X, y \u001b[38;5;241m=\u001b[39m \u001b[38;5;28mself\u001b[39m\u001b[38;5;241m.\u001b[39m_validate_data(\n\u001b[1;32m   1139\u001b[0m     X,\n\u001b[1;32m   1140\u001b[0m     y,\n\u001b[0;32m   (...)\u001b[0m\n\u001b[1;32m   1144\u001b[0m     accept_large_sparse\u001b[38;5;241m=\u001b[39msolver \u001b[38;5;129;01mnot\u001b[39;00m \u001b[38;5;129;01min\u001b[39;00m [\u001b[38;5;124m\"\u001b[39m\u001b[38;5;124mliblinear\u001b[39m\u001b[38;5;124m\"\u001b[39m, \u001b[38;5;124m\"\u001b[39m\u001b[38;5;124msag\u001b[39m\u001b[38;5;124m\"\u001b[39m, \u001b[38;5;124m\"\u001b[39m\u001b[38;5;124msaga\u001b[39m\u001b[38;5;124m\"\u001b[39m],\n\u001b[1;32m   1145\u001b[0m )\n\u001b[0;32m-> 1146\u001b[0m \u001b[43mcheck_classification_targets\u001b[49m\u001b[43m(\u001b[49m\u001b[43my\u001b[49m\u001b[43m)\u001b[49m\n\u001b[1;32m   1147\u001b[0m \u001b[38;5;28mself\u001b[39m\u001b[38;5;241m.\u001b[39mclasses_ \u001b[38;5;241m=\u001b[39m np\u001b[38;5;241m.\u001b[39munique(y)\n\u001b[1;32m   1149\u001b[0m multi_class \u001b[38;5;241m=\u001b[39m _check_multi_class(\u001b[38;5;28mself\u001b[39m\u001b[38;5;241m.\u001b[39mmulti_class, solver, \u001b[38;5;28mlen\u001b[39m(\u001b[38;5;28mself\u001b[39m\u001b[38;5;241m.\u001b[39mclasses_))\n",
      "File \u001b[0;32m/opt/conda/lib/python3.10/site-packages/sklearn/utils/multiclass.py:200\u001b[0m, in \u001b[0;36mcheck_classification_targets\u001b[0;34m(y)\u001b[0m\n\u001b[1;32m    192\u001b[0m y_type \u001b[38;5;241m=\u001b[39m type_of_target(y, input_name\u001b[38;5;241m=\u001b[39m\u001b[38;5;124m\"\u001b[39m\u001b[38;5;124my\u001b[39m\u001b[38;5;124m\"\u001b[39m)\n\u001b[1;32m    193\u001b[0m \u001b[38;5;28;01mif\u001b[39;00m y_type \u001b[38;5;129;01mnot\u001b[39;00m \u001b[38;5;129;01min\u001b[39;00m [\n\u001b[1;32m    194\u001b[0m     \u001b[38;5;124m\"\u001b[39m\u001b[38;5;124mbinary\u001b[39m\u001b[38;5;124m\"\u001b[39m,\n\u001b[1;32m    195\u001b[0m     \u001b[38;5;124m\"\u001b[39m\u001b[38;5;124mmulticlass\u001b[39m\u001b[38;5;124m\"\u001b[39m,\n\u001b[0;32m   (...)\u001b[0m\n\u001b[1;32m    198\u001b[0m     \u001b[38;5;124m\"\u001b[39m\u001b[38;5;124mmultilabel-sequences\u001b[39m\u001b[38;5;124m\"\u001b[39m,\n\u001b[1;32m    199\u001b[0m ]:\n\u001b[0;32m--> 200\u001b[0m     \u001b[38;5;28;01mraise\u001b[39;00m \u001b[38;5;167;01mValueError\u001b[39;00m(\u001b[38;5;124m\"\u001b[39m\u001b[38;5;124mUnknown label type: \u001b[39m\u001b[38;5;132;01m%r\u001b[39;00m\u001b[38;5;124m\"\u001b[39m \u001b[38;5;241m%\u001b[39m y_type)\n",
      "\u001b[0;31mValueError\u001b[0m: Unknown label type: 'continuous'"
     ]
    }
   ],
   "source": [
    "y_pred = gnb.fit(X_train, y_train).predict(X_test)"
   ]
  },
  {
   "cell_type": "code",
   "execution_count": 62,
   "id": "252f90e8",
   "metadata": {},
   "outputs": [
    {
     "name": "stdout",
     "output_type": "stream",
     "text": [
      "Number of mislabeled points out of a total 4675 points : 4550\n"
     ]
    }
   ],
   "source": [
    "print(\"Number of mislabeled points out of a total %d points : %d\"\n",
    "      % (X_test.shape[0], (y_test.astype(int) != y_pred).sum()))"
   ]
  },
  {
   "cell_type": "code",
   "execution_count": 64,
   "id": "7dde2a25",
   "metadata": {},
   "outputs": [],
   "source": [
    "y_diff = y_pred - y_test"
   ]
  },
  {
   "cell_type": "code",
   "execution_count": 66,
   "id": "e2379598",
   "metadata": {},
   "outputs": [
    {
     "name": "stdout",
     "output_type": "stream",
     "text": [
      "-8.72577585163967 26.822325796628277 719.4371611404708\n"
     ]
    }
   ],
   "source": [
    "print (np.mean(y_diff), np.std(y_diff), np.var(y_diff))"
   ]
  },
  {
   "cell_type": "code",
   "execution_count": 68,
   "id": "919d1ea2",
   "metadata": {},
   "outputs": [
    {
     "data": {
      "text/plain": [
       "0.026737967914438502"
      ]
     },
     "execution_count": 68,
     "metadata": {},
     "output_type": "execute_result"
    }
   ],
   "source": [
    "gnb.score(X_test, y_test.astype(int))"
   ]
  },
  {
   "cell_type": "code",
   "execution_count": null,
   "id": "4d4ab009",
   "metadata": {},
   "outputs": [],
   "source": []
  }
 ],
 "metadata": {
  "kernelspec": {
   "display_name": "Python 3 (ipykernel)",
   "language": "python",
   "name": "python3"
  },
  "language_info": {
   "codemirror_mode": {
    "name": "ipython",
    "version": 3
   },
   "file_extension": ".py",
   "mimetype": "text/x-python",
   "name": "python",
   "nbconvert_exporter": "python",
   "pygments_lexer": "ipython3",
   "version": "3.10.5"
  }
 },
 "nbformat": 4,
 "nbformat_minor": 5
}
