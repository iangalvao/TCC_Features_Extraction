{
 "cells": [
  {
   "cell_type": "markdown",
   "id": "b8c283a6",
   "metadata": {},
   "source": [
    "Here is my nifty citation {cite}`burkov2019hundred`."
   ]
  },
  {
   "cell_type": "markdown",
   "id": "a3dfe43f",
   "metadata": {},
   "source": [
    "## TOC:\n",
    "* [First Bullet Header](#first-bullet)"
   ]
  },
  {
   "cell_type": "markdown",
   "id": "5c3f54f0",
   "metadata": {},
   "source": [
    "asdjfnaksdn kajsdjksdnkfajsndkajd vad kad faksd fkasd fkas df aksdfa fksaf s.\n",
    "\n",
    "asdjfnaksdn kajsdjksdnkfajsndkajd vad kad faksd fkasd fkas df aksdfa fksaf s. asdjfnaksdn kajsdjksdnkfajsndkajd vad kad faksd fkasd fkas df aksdfa fksaf s.\n",
    "\n",
    "asdjfnaksdn kajsdjksdnkfajsndkajd vad kad faksd fkasd fkas df aksdfa fksaf s.\n",
    "\n",
    "asdjfnaksdn kajsdjksdnkfajsndkajd vad kad faksd fkasd fkas df aksdfa fksaf s.\n",
    "\n",
    "asdjfnaksdn kajsdjksdnkfajsndkajd vad kad faksd fkasd fkas df aksdfa fksaf s. asdjfnaksdn kajsdjksdnkfajsndkajd vad kad faksd fkasd fkas df aksdfa fksaf s.\n",
    "\n",
    "asdjfnaksdn kajsdjksdnkfajsndkajd vad kad faksd fkasd fkas df aksdfa fksaf s.\n",
    "asdjfnaksdn kajsdjksdnkfajsndkajd vad kad faksd fkasd fkas df aksdfa fksaf s.\n",
    "\n",
    "asdjfnaksdn kajsdjksdnkfajsndkajd vad kad faksd fkasd fkas df aksdfa fksaf s. asdjfnaksdn kajsdjksdnkfajsndkajd vad kad faksd fkasd fkas df aksdfa fksaf s.\n",
    "\n",
    "asdjfnaksdn kajsdjksdnkfajsndkajd vad kad faksd fkasd fkas df aksdfa fksaf s.\n",
    "\n",
    "asdjfnaksdn kajsdjksdnkfajsndkajd vad kad faksd fkasd fkas df aksdfa fksaf s.\n",
    "\n",
    "asdjfnaksdn kajsdjksdnkfajsndkajd vad kad faksd fkasd fkas df aksdfa fksaf s. asdjfnaksdn kajsdjksdnkfajsndkajd vad kad faksd fkasd fkas df aksdfa fksaf s.\n",
    "\n",
    "asdjfnaksdn kajsdjksdnkfajsndkajd vad kad faksd fkasd fkas df aksdfa fksaf s.asdjfnaksdn kajsdjksdnkfajsndkajd vad kad faksd fkasd fkas df aksdfa fksaf s.\n",
    "\n",
    "asdjfnaksdn kajsdjksdnkfajsndkajd vad kad faksd fkasd fkas df aksdfa fksaf s. asdjfnaksdn kajsdjksdnkfajsndkajd vad kad faksd fkasd fkas df aksdfa fksaf s.\n",
    "\n",
    "asdjfnaksdn kajsdjksdnkfajsndkajd vad kad faksd fkasd fkas df aksdfa fksaf s.\n",
    "\n",
    "asdjfnaksdn kajsdjksdnkfajsndkajd vad kad faksd fkasd fkas df aksdfa fksaf s.\n",
    "\n",
    "asdjfnaksdn kajsdjksdnkfajsndkajd vad kad faksd fkasd fkas df aksdfa fksaf s. asdjfnaksdn kajsdjksdnkfajsndkajd vad kad faksd fkasd fkas df aksdfa fksaf s.\n",
    "\n",
    "asdjfnaksdn kajsdjksdnkfajsndkajd vad kad faksd fkasd fkas df aksdfa fksaf s.\n",
    "asdjfnaksdn kajsdjksdnkfajsndkajd vad kad faksd fkasd fkas df aksdfa fksaf s.\n",
    "\n",
    "asdjfnaksdn kajsdjksdnkfajsndkajd vad kad faksd fkasd fkas df aksdfa fksaf s. asdjfnaksdn kajsdjksdnkfajsndkajd vad kad faksd fkasd fkas df aksdfa fksaf s.\n",
    "\n",
    "asdjfnaksdn kajsdjksdnkfajsndkajd vad kad faksd fkasd fkas df aksdfa fksaf s.\n",
    "\n",
    "asdjfnaksdn kajsdjksdnkfajsndkajd vad kad faksd fkasd fkas df aksdfa fksaf s.\n",
    "\n",
    "asdjfnaksdn kajsdjksdnkfajsndkajd vad kad faksd fkasd fkas df aksdfa fksaf s. asdjfnaksdn kajsdjksdnkfajsndkajd vad kad faksd fkasd fkas df aksdfa fksaf s.\n",
    "\n",
    "asdjfnaksdn kajsdjksdnkfajsndkajd vad kad faksd fkasd fkas df aksdfa fksaf s."
   ]
  },
  {
   "cell_type": "code",
   "execution_count": null,
   "id": "79dd917f",
   "metadata": {},
   "outputs": [],
   "source": []
  },
  {
   "cell_type": "markdown",
   "id": "bfe06cc6",
   "metadata": {},
   "source": [
    "## First Bullet Header <a class=\"anchor\" id=\"first-bullet\"></a>"
   ]
  }
 ],
 "metadata": {
  "kernelspec": {
   "display_name": "Python 3 (ipykernel)",
   "language": "python",
   "name": "python3"
  },
  "language_info": {
   "codemirror_mode": {
    "name": "ipython",
    "version": 3
   },
   "file_extension": ".py",
   "mimetype": "text/x-python",
   "name": "python",
   "nbconvert_exporter": "python",
   "pygments_lexer": "ipython3",
   "version": "3.10.5"
  }
 },
 "nbformat": 4,
 "nbformat_minor": 5
}
