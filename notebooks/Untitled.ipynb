{
 "cells": [
  {
   "cell_type": "markdown",
   "id": "d5d40cf5",
   "metadata": {},
   "source": [
    "# Treinamento de Modelo\n",
    "## Descrição\n",
    "\n",
    "Esse é o primeiro código de treinamento de um modelo. É uma pipeline simples, com o carregamento do dataset, a divisão do conjunto de dados em treino e validação (ainda sem conjunto de testes), o treinamento do modelo e a validação."
   ]
  },
  {
   "cell_type": "markdown",
   "id": "9b6ede59",
   "metadata": {},
   "source": [
    "## Imports"
   ]
  },
  {
   "cell_type": "code",
   "execution_count": 1,
   "id": "22395798",
   "metadata": {},
   "outputs": [],
   "source": [
    "import os\n",
    "import sys\n",
    "from tabnanny import verbose\n",
    "import pandas as pd\n",
    "import numpy as np\n",
    "import yaml\n",
    "from itertools import chain, combinations\n",
    "import datetime\n",
    "import tempfile\n",
    "\n",
    "from sklearn.model_selection import train_test_split\n",
    "from sklearn.model_selection import cross_validate\n",
    "from sklearn.linear_model import LinearRegression\n",
    "from sklearn.linear_model import LogisticRegression\n",
    "from sklearn.ensemble import RandomForestRegressor\n",
    "from sklearn.ensemble import GradientBoostingRegressor\n",
    "from sklearn.model_selection import GridSearchCV\n",
    "from sklearn.tree import DecisionTreeRegressor\n",
    "from sklearn.metrics import mean_absolute_error, r2_score, mean_squared_error\n",
    "from sklearn.utils import shuffle\n",
    "\n",
    "import mlflow\n",
    "import mlflow.sklearn\n",
    "from mlflow.tracking import MlflowClient\n",
    "from mlflow.utils.mlflow_tags import MLFLOW_PARENT_RUN_ID\n"
   ]
  },
  {
   "cell_type": "markdown",
   "id": "227e753a",
   "metadata": {},
   "source": [
    "## Extração de Dados"
   ]
  },
  {
   "cell_type": "code",
   "execution_count": 7,
   "id": "2ed12d62",
   "metadata": {},
   "outputs": [],
   "source": [
    "df = pd.read_csv(os.path.abspath(\"../extracao/data.csv\"))"
   ]
  },
  {
   "cell_type": "code",
   "execution_count": 8,
   "id": "64ffe234",
   "metadata": {},
   "outputs": [
    {
     "data": {
      "text/html": [
       "<div>\n",
       "<style scoped>\n",
       "    .dataframe tbody tr th:only-of-type {\n",
       "        vertical-align: middle;\n",
       "    }\n",
       "\n",
       "    .dataframe tbody tr th {\n",
       "        vertical-align: top;\n",
       "    }\n",
       "\n",
       "    .dataframe thead th {\n",
       "        text-align: right;\n",
       "    }\n",
       "</style>\n",
       "<table border=\"1\" class=\"dataframe\">\n",
       "  <thead>\n",
       "    <tr style=\"text-align: right;\">\n",
       "      <th></th>\n",
       "      <th>edge_simpl</th>\n",
       "      <th>hue_simpl</th>\n",
       "      <th>average_lum</th>\n",
       "      <th>contrast_ratio</th>\n",
       "      <th>hist_width</th>\n",
       "      <th>blur</th>\n",
       "      <th>score</th>\n",
       "    </tr>\n",
       "  </thead>\n",
       "  <tbody>\n",
       "    <tr>\n",
       "      <th>80184044.jpg</th>\n",
       "      <td>0.988281</td>\n",
       "      <td>17</td>\n",
       "      <td>32.791357</td>\n",
       "      <td>0.033461</td>\n",
       "      <td>0.828125</td>\n",
       "      <td>0.506367</td>\n",
       "      <td>3.911765</td>\n",
       "    </tr>\n",
       "    <tr>\n",
       "      <th>3632417985.jpg</th>\n",
       "      <td>0.984701</td>\n",
       "      <td>10</td>\n",
       "      <td>60.394967</td>\n",
       "      <td>0.040131</td>\n",
       "      <td>0.937500</td>\n",
       "      <td>0.509684</td>\n",
       "      <td>4.167411</td>\n",
       "    </tr>\n",
       "    <tr>\n",
       "      <th>10344921126.jpg</th>\n",
       "      <td>0.900228</td>\n",
       "      <td>14</td>\n",
       "      <td>82.289109</td>\n",
       "      <td>0.008832</td>\n",
       "      <td>0.820312</td>\n",
       "      <td>0.499054</td>\n",
       "      <td>4.466387</td>\n",
       "    </tr>\n",
       "    <tr>\n",
       "      <th>33000255.jpg</th>\n",
       "      <td>0.987467</td>\n",
       "      <td>16</td>\n",
       "      <td>14.709630</td>\n",
       "      <td>0.001770</td>\n",
       "      <td>0.992188</td>\n",
       "      <td>0.490172</td>\n",
       "      <td>4.705508</td>\n",
       "    </tr>\n",
       "    <tr>\n",
       "      <th>3091624267.jpg</th>\n",
       "      <td>0.987630</td>\n",
       "      <td>17</td>\n",
       "      <td>20.625202</td>\n",
       "      <td>0.000000</td>\n",
       "      <td>0.800781</td>\n",
       "      <td>0.494483</td>\n",
       "      <td>4.948718</td>\n",
       "    </tr>\n",
       "    <tr>\n",
       "      <th>...</th>\n",
       "      <td>...</td>\n",
       "      <td>...</td>\n",
       "      <td>...</td>\n",
       "      <td>...</td>\n",
       "      <td>...</td>\n",
       "      <td>...</td>\n",
       "      <td>...</td>\n",
       "    </tr>\n",
       "    <tr>\n",
       "      <th>10264804094.jpg</th>\n",
       "      <td>0.986979</td>\n",
       "      <td>7</td>\n",
       "      <td>70.930692</td>\n",
       "      <td>0.096978</td>\n",
       "      <td>0.921875</td>\n",
       "      <td>0.499980</td>\n",
       "      <td>76.649554</td>\n",
       "    </tr>\n",
       "    <tr>\n",
       "      <th>6163705024.jpg</th>\n",
       "      <td>0.983724</td>\n",
       "      <td>17</td>\n",
       "      <td>77.730217</td>\n",
       "      <td>0.089902</td>\n",
       "      <td>0.578125</td>\n",
       "      <td>0.496635</td>\n",
       "      <td>76.649554</td>\n",
       "    </tr>\n",
       "    <tr>\n",
       "      <th>7914531096.jpg</th>\n",
       "      <td>0.987630</td>\n",
       "      <td>7</td>\n",
       "      <td>58.468774</td>\n",
       "      <td>0.018675</td>\n",
       "      <td>0.925781</td>\n",
       "      <td>0.502837</td>\n",
       "      <td>76.649554</td>\n",
       "    </tr>\n",
       "    <tr>\n",
       "      <th>4824776407.jpg</th>\n",
       "      <td>0.988932</td>\n",
       "      <td>15</td>\n",
       "      <td>66.287623</td>\n",
       "      <td>0.002342</td>\n",
       "      <td>0.882812</td>\n",
       "      <td>0.498488</td>\n",
       "      <td>76.650943</td>\n",
       "    </tr>\n",
       "    <tr>\n",
       "      <th>11018079835.jpg</th>\n",
       "      <td>0.986328</td>\n",
       "      <td>16</td>\n",
       "      <td>57.949927</td>\n",
       "      <td>0.005248</td>\n",
       "      <td>0.960938</td>\n",
       "      <td>0.501005</td>\n",
       "      <td>76.660256</td>\n",
       "    </tr>\n",
       "  </tbody>\n",
       "</table>\n",
       "<p>9349 rows × 7 columns</p>\n",
       "</div>"
      ],
      "text/plain": [
       "                 edge_simpl  hue_simpl  average_lum  contrast_ratio  \\\n",
       "80184044.jpg       0.988281         17    32.791357        0.033461   \n",
       "3632417985.jpg     0.984701         10    60.394967        0.040131   \n",
       "10344921126.jpg    0.900228         14    82.289109        0.008832   \n",
       "33000255.jpg       0.987467         16    14.709630        0.001770   \n",
       "3091624267.jpg     0.987630         17    20.625202        0.000000   \n",
       "...                     ...        ...          ...             ...   \n",
       "10264804094.jpg    0.986979          7    70.930692        0.096978   \n",
       "6163705024.jpg     0.983724         17    77.730217        0.089902   \n",
       "7914531096.jpg     0.987630          7    58.468774        0.018675   \n",
       "4824776407.jpg     0.988932         15    66.287623        0.002342   \n",
       "11018079835.jpg    0.986328         16    57.949927        0.005248   \n",
       "\n",
       "                 hist_width      blur      score  \n",
       "80184044.jpg       0.828125  0.506367   3.911765  \n",
       "3632417985.jpg     0.937500  0.509684   4.167411  \n",
       "10344921126.jpg    0.820312  0.499054   4.466387  \n",
       "33000255.jpg       0.992188  0.490172   4.705508  \n",
       "3091624267.jpg     0.800781  0.494483   4.948718  \n",
       "...                     ...       ...        ...  \n",
       "10264804094.jpg    0.921875  0.499980  76.649554  \n",
       "6163705024.jpg     0.578125  0.496635  76.649554  \n",
       "7914531096.jpg     0.925781  0.502837  76.649554  \n",
       "4824776407.jpg     0.882812  0.498488  76.650943  \n",
       "11018079835.jpg    0.960938  0.501005  76.660256  \n",
       "\n",
       "[9349 rows x 7 columns]"
      ]
     },
     "execution_count": 8,
     "metadata": {},
     "output_type": "execute_result"
    }
   ],
   "source": [
    "df"
   ]
  },
  {
   "cell_type": "markdown",
   "id": "e4d50f5a",
   "metadata": {},
   "source": [
    "## Formatação dos Dados\n",
    "\n",
    "Divisão entre os conjuntos de treinamento e de validação. O dataset está ordenado pela qualidade das imagens (alvo da regressão), logo é necessário embaralhar os dados para evitar viés."
   ]
  },
  {
   "cell_type": "code",
   "execution_count": 11,
   "id": "b73ccf69",
   "metadata": {},
   "outputs": [],
   "source": [
    "r_state = 15\n",
    "\n",
    "X = shuffle(df.iloc[:,:-1], random_state=r_state)\n",
    "\n",
    "y = shuffle(df.iloc[:,-1], random_state=r_state)\n",
    "\n",
    "X_train, X_test, y_train, y_test = train_test_split(\n",
    "    X, y, test_size=0.3, random_state=r_state\n",
    ")\n"
   ]
  },
  {
   "cell_type": "markdown",
   "id": "0cf1aac2",
   "metadata": {},
   "source": [
    "## Treinamento\n",
    "\n",
    "Aqui é utilizado um modelo de regressão linear como teste."
   ]
  },
  {
   "cell_type": "code",
   "execution_count": 49,
   "id": "e2838841",
   "metadata": {},
   "outputs": [],
   "source": [
    "model = RandomForestRegressor(max_depth=8,max_features=5,min_samples_split=10,min_samples_leaf=4)"
   ]
  },
  {
   "cell_type": "code",
   "execution_count": 50,
   "id": "e385da32",
   "metadata": {},
   "outputs": [
    {
     "data": {
      "text/html": [
       "<style>#sk-container-id-7 {color: black;background-color: white;}#sk-container-id-7 pre{padding: 0;}#sk-container-id-7 div.sk-toggleable {background-color: white;}#sk-container-id-7 label.sk-toggleable__label {cursor: pointer;display: block;width: 100%;margin-bottom: 0;padding: 0.3em;box-sizing: border-box;text-align: center;}#sk-container-id-7 label.sk-toggleable__label-arrow:before {content: \"▸\";float: left;margin-right: 0.25em;color: #696969;}#sk-container-id-7 label.sk-toggleable__label-arrow:hover:before {color: black;}#sk-container-id-7 div.sk-estimator:hover label.sk-toggleable__label-arrow:before {color: black;}#sk-container-id-7 div.sk-toggleable__content {max-height: 0;max-width: 0;overflow: hidden;text-align: left;background-color: #f0f8ff;}#sk-container-id-7 div.sk-toggleable__content pre {margin: 0.2em;color: black;border-radius: 0.25em;background-color: #f0f8ff;}#sk-container-id-7 input.sk-toggleable__control:checked~div.sk-toggleable__content {max-height: 200px;max-width: 100%;overflow: auto;}#sk-container-id-7 input.sk-toggleable__control:checked~label.sk-toggleable__label-arrow:before {content: \"▾\";}#sk-container-id-7 div.sk-estimator input.sk-toggleable__control:checked~label.sk-toggleable__label {background-color: #d4ebff;}#sk-container-id-7 div.sk-label input.sk-toggleable__control:checked~label.sk-toggleable__label {background-color: #d4ebff;}#sk-container-id-7 input.sk-hidden--visually {border: 0;clip: rect(1px 1px 1px 1px);clip: rect(1px, 1px, 1px, 1px);height: 1px;margin: -1px;overflow: hidden;padding: 0;position: absolute;width: 1px;}#sk-container-id-7 div.sk-estimator {font-family: monospace;background-color: #f0f8ff;border: 1px dotted black;border-radius: 0.25em;box-sizing: border-box;margin-bottom: 0.5em;}#sk-container-id-7 div.sk-estimator:hover {background-color: #d4ebff;}#sk-container-id-7 div.sk-parallel-item::after {content: \"\";width: 100%;border-bottom: 1px solid gray;flex-grow: 1;}#sk-container-id-7 div.sk-label:hover label.sk-toggleable__label {background-color: #d4ebff;}#sk-container-id-7 div.sk-serial::before {content: \"\";position: absolute;border-left: 1px solid gray;box-sizing: border-box;top: 0;bottom: 0;left: 50%;z-index: 0;}#sk-container-id-7 div.sk-serial {display: flex;flex-direction: column;align-items: center;background-color: white;padding-right: 0.2em;padding-left: 0.2em;position: relative;}#sk-container-id-7 div.sk-item {position: relative;z-index: 1;}#sk-container-id-7 div.sk-parallel {display: flex;align-items: stretch;justify-content: center;background-color: white;position: relative;}#sk-container-id-7 div.sk-item::before, #sk-container-id-7 div.sk-parallel-item::before {content: \"\";position: absolute;border-left: 1px solid gray;box-sizing: border-box;top: 0;bottom: 0;left: 50%;z-index: -1;}#sk-container-id-7 div.sk-parallel-item {display: flex;flex-direction: column;z-index: 1;position: relative;background-color: white;}#sk-container-id-7 div.sk-parallel-item:first-child::after {align-self: flex-end;width: 50%;}#sk-container-id-7 div.sk-parallel-item:last-child::after {align-self: flex-start;width: 50%;}#sk-container-id-7 div.sk-parallel-item:only-child::after {width: 0;}#sk-container-id-7 div.sk-dashed-wrapped {border: 1px dashed gray;margin: 0 0.4em 0.5em 0.4em;box-sizing: border-box;padding-bottom: 0.4em;background-color: white;}#sk-container-id-7 div.sk-label label {font-family: monospace;font-weight: bold;display: inline-block;line-height: 1.2em;}#sk-container-id-7 div.sk-label-container {text-align: center;}#sk-container-id-7 div.sk-container {/* jupyter's `normalize.less` sets `[hidden] { display: none; }` but bootstrap.min.css set `[hidden] { display: none !important; }` so we also need the `!important` here to be able to override the default hidden behavior on the sphinx rendered scikit-learn.org. See: https://github.com/scikit-learn/scikit-learn/issues/21755 */display: inline-block !important;position: relative;}#sk-container-id-7 div.sk-text-repr-fallback {display: none;}</style><div id=\"sk-container-id-7\" class=\"sk-top-container\"><div class=\"sk-text-repr-fallback\"><pre>RandomForestRegressor(max_depth=8, max_features=5, min_samples_leaf=4,\n",
       "                      min_samples_split=10)</pre><b>In a Jupyter environment, please rerun this cell to show the HTML representation or trust the notebook. <br />On GitHub, the HTML representation is unable to render, please try loading this page with nbviewer.org.</b></div><div class=\"sk-container\" hidden><div class=\"sk-item\"><div class=\"sk-estimator sk-toggleable\"><input class=\"sk-toggleable__control sk-hidden--visually\" id=\"sk-estimator-id-7\" type=\"checkbox\" checked><label for=\"sk-estimator-id-7\" class=\"sk-toggleable__label sk-toggleable__label-arrow\">RandomForestRegressor</label><div class=\"sk-toggleable__content\"><pre>RandomForestRegressor(max_depth=8, max_features=5, min_samples_leaf=4,\n",
       "                      min_samples_split=10)</pre></div></div></div></div></div>"
      ],
      "text/plain": [
       "RandomForestRegressor(max_depth=8, max_features=5, min_samples_leaf=4,\n",
       "                      min_samples_split=10)"
      ]
     },
     "execution_count": 50,
     "metadata": {},
     "output_type": "execute_result"
    }
   ],
   "source": [
    "model.fit(X_train, y_train)"
   ]
  },
  {
   "cell_type": "markdown",
   "id": "4a66e607",
   "metadata": {},
   "source": [
    "## Validação\n",
    "\n",
    "As métricas utilizadas são a Raíz do Erro Quadrático Médio (rmse), o erro absoluto médio (mae) e coeficiente de determinação (r2), que nos diz o quão bem os dados se encaixam no modelo. "
   ]
  },
  {
   "cell_type": "code",
   "execution_count": 51,
   "id": "2248405d",
   "metadata": {},
   "outputs": [],
   "source": [
    "\n",
    "def eval_metrics(actual, pred):\n",
    "    rmse = np.sqrt(mean_squared_error(actual, pred))\n",
    "    mae = mean_absolute_error(actual, pred)\n",
    "    r2 = r2_score(actual, pred)\n",
    "    return rmse, mae, r2\n",
    "\n"
   ]
  },
  {
   "cell_type": "code",
   "execution_count": 52,
   "id": "76bd0840",
   "metadata": {},
   "outputs": [
    {
     "name": "stdout",
     "output_type": "stream",
     "text": [
      "(12.235089365163445, 9.573091072047319, 0.29804186774091124)\n"
     ]
    }
   ],
   "source": [
    "y_pred = model.predict(X_test)\n",
    "print (eval_metrics(y_test,y_pred))"
   ]
  },
  {
   "cell_type": "code",
   "execution_count": 53,
   "id": "ddc155de",
   "metadata": {},
   "outputs": [
    {
     "name": "stdout",
     "output_type": "stream",
     "text": [
      "(11.167752078570073, 8.740376602121405, 0.44485997334744665)\n"
     ]
    }
   ],
   "source": [
    "y_pred = model.predict(X_train)\n",
    "print (eval_metrics(y_train,y_pred))"
   ]
  },
  {
   "cell_type": "code",
   "execution_count": 15,
   "id": "ba77abb9",
   "metadata": {},
   "outputs": [],
   "source": [
    "client = MlflowClient(tracking_uri=\"http://localhost:5000\")"
   ]
  },
  {
   "cell_type": "code",
   "execution_count": null,
   "id": "aac11439",
   "metadata": {},
   "outputs": [],
   "source": []
  }
 ],
 "metadata": {
  "kernelspec": {
   "display_name": "Python 3 (ipykernel)",
   "language": "python",
   "name": "python3"
  },
  "language_info": {
   "codemirror_mode": {
    "name": "ipython",
    "version": 3
   },
   "file_extension": ".py",
   "mimetype": "text/x-python",
   "name": "python",
   "nbconvert_exporter": "python",
   "pygments_lexer": "ipython3",
   "version": "3.10.5"
  }
 },
 "nbformat": 4,
 "nbformat_minor": 5
}
